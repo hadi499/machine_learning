{
 "cells": [
  {
   "cell_type": "code",
   "execution_count": 1,
   "id": "781affff",
   "metadata": {},
   "outputs": [],
   "source": [
    "from sklearn.feature_extraction.text import CountVectorizer\n",
    "from sklearn.model_selection import train_test_split\n",
    "from sklearn.naive_bayes import MultinomialNB\n",
    "from sklearn.metrics import accuracy_score, classification_report"
   ]
  },
  {
   "cell_type": "code",
   "execution_count": 2,
   "id": "5f9e4426",
   "metadata": {},
   "outputs": [],
   "source": [
    "# Data sederhana\n",
    "emails = [\n",
    "    \"Win a free iPhone now\",\n",
    "    \"Limited offer, buy one get one free\",\n",
    "    \"Urgent, you have won a lottery\",\n",
    "    \"Hello, just checking in\",\n",
    "    \"Meeting scheduled for tomorrow\",\n",
    "    \"Your Amazon package has shipped\",\n",
    "    \"Congratulations, you are a winner\",\n",
    "    \"Can we reschedule our call?\",\n",
    "    \"Don't forget the team meeting\",\n",
    "    \"Exclusive deal, click here to claim\"\n",
    "]\n",
    "\n",
    "labels = [\"Spam\", \"Spam\", \"Spam\", \"Not Spam\", \"Not Spam\",\n",
    "          \"Not Spam\", \"Spam\", \"Not Spam\", \"Not Spam\", \"Spam\"]\n",
    "\n",
    "# 1. Preprocessing data\n",
    "vectorizer = CountVectorizer()\n",
    "X = vectorizer.fit_transform(emails)  # Konversi teks ke representasi numerik\n",
    "y = labels\n",
    "\n",
    "# 2. Split data menjadi train dan test\n",
    "X_train, X_test, y_train, y_test = train_test_split(X, y, test_size=0.3, random_state=42)\n",
    "\n",
    "# 3. Inisialisasi model Naive Bayes\n",
    "model = MultinomialNB()\n",
    "\n",
    "# 4. Melatih model\n",
    "model.fit(X_train, y_train)\n",
    "\n",
    "# 5. Prediksi\n",
    "y_pred = model.predict(X_test)"
   ]
  },
  {
   "cell_type": "code",
   "execution_count": 3,
   "id": "2e436df7",
   "metadata": {},
   "outputs": [
    {
     "name": "stdout",
     "output_type": "stream",
     "text": [
      "Akurasi Model: 1.0\n",
      "Laporan Klasifikasi:\n",
      "               precision    recall  f1-score   support\n",
      "\n",
      "    Not Spam       1.00      1.00      1.00         2\n",
      "        Spam       1.00      1.00      1.00         1\n",
      "\n",
      "    accuracy                           1.00         3\n",
      "   macro avg       1.00      1.00      1.00         3\n",
      "weighted avg       1.00      1.00      1.00         3\n",
      "\n"
     ]
    }
   ],
   "source": [
    "# 6. Evaluasi\n",
    "accuracy = accuracy_score(y_test, y_pred)\n",
    "print(\"Akurasi Model:\", accuracy)\n",
    "print(\"Laporan Klasifikasi:\\n\", classification_report(y_test, y_pred))"
   ]
  },
  {
   "cell_type": "code",
   "execution_count": 4,
   "id": "db27a891",
   "metadata": {},
   "outputs": [
    {
     "name": "stdout",
     "output_type": "stream",
     "text": [
      "Prediksi untuk email baru: ['Spam' 'Not Spam']\n"
     ]
    }
   ],
   "source": [
    "# Contoh prediksi email baru\n",
    "new_emails = [\"Congratulations, you've won a prize\", \"Let's schedule a meeting\"]\n",
    "new_X = vectorizer.transform(new_emails)\n",
    "predictions = model.predict(new_X)\n",
    "print(\"Prediksi untuk email baru:\", predictions)"
   ]
  },
  {
   "cell_type": "code",
   "execution_count": null,
   "id": "7ddb90fe",
   "metadata": {},
   "outputs": [],
   "source": []
  }
 ],
 "metadata": {
  "kernelspec": {
   "display_name": "Python 3 (ipykernel)",
   "language": "python",
   "name": "python3"
  },
  "language_info": {
   "codemirror_mode": {
    "name": "ipython",
    "version": 3
   },
   "file_extension": ".py",
   "mimetype": "text/x-python",
   "name": "python",
   "nbconvert_exporter": "python",
   "pygments_lexer": "ipython3",
   "version": "3.10.9"
  }
 },
 "nbformat": 4,
 "nbformat_minor": 5
}
