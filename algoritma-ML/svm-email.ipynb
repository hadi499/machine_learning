{
 "cells": [
  {
   "cell_type": "code",
   "execution_count": 1,
   "id": "a1f620fa",
   "metadata": {},
   "outputs": [],
   "source": [
    "# Import library\n",
    "from sklearn.model_selection import train_test_split\n",
    "from sklearn.feature_extraction.text import CountVectorizer\n",
    "from sklearn.svm import SVC\n",
    "from sklearn.metrics import classification_report, accuracy_score"
   ]
  },
  {
   "cell_type": "code",
   "execution_count": 2,
   "id": "6f2ac2fe",
   "metadata": {},
   "outputs": [],
   "source": [
    "# Contoh data (email sederhana)\n",
    "emails = [\n",
    "    \"Congratulations! You've won a $1,000 Walmart gift card. Click here to claim now!\",  # Spam\n",
    "    \"Meeting rescheduled to 3 PM tomorrow. Please confirm.\",                             # Non-Spam\n",
    "    \"Earn money from home. Work only 2 hours a day!\",                                    # Spam\n",
    "    \"Your order has been shipped and will arrive soon.\",                                 # Non-Spam\n",
    "    \"Limited-time offer! Get 50% off on all products.\",                                  # Spam\n",
    "    \"Let's catch up for lunch tomorrow at 1 PM.\",                                       # Non-Spam\n",
    "]\n",
    "\n",
    "# Label data: 1 = Spam, 0 = Non-Spam\n",
    "labels = [1, 0, 1, 0, 1, 0]\n",
    "\n",
    "# Convert teks email ke fitur numerik (bag of words)\n",
    "vectorizer = CountVectorizer()\n",
    "X = vectorizer.fit_transform(emails)\n",
    "\n",
    "# Bagi dataset menjadi data latih dan uji\n",
    "X_train, X_test, y_train, y_test = train_test_split(X, labels, test_size=0.3, random_state=42)\n",
    "\n",
    "# Latih model SVM\n",
    "svm_model = SVC(kernel='linear', C=1.0)\n",
    "svm_model.fit(X_train, y_train)\n",
    "\n",
    "# Prediksi data uji\n",
    "y_pred = svm_model.predict(X_test)"
   ]
  },
  {
   "cell_type": "code",
   "execution_count": 3,
   "id": "8a999e22",
   "metadata": {},
   "outputs": [
    {
     "name": "stdout",
     "output_type": "stream",
     "text": [
      "Akurasi: 1.0\n",
      "\n",
      "Laporan Klasifikasi:\n",
      "               precision    recall  f1-score   support\n",
      "\n",
      "           0       1.00      1.00      1.00         1\n",
      "           1       1.00      1.00      1.00         1\n",
      "\n",
      "    accuracy                           1.00         2\n",
      "   macro avg       1.00      1.00      1.00         2\n",
      "weighted avg       1.00      1.00      1.00         2\n",
      "\n"
     ]
    }
   ],
   "source": [
    "# Evaluasi model\n",
    "print(\"Akurasi:\", accuracy_score(y_test, y_pred))\n",
    "print(\"\\nLaporan Klasifikasi:\\n\", classification_report(y_test, y_pred))"
   ]
  },
  {
   "cell_type": "code",
   "execution_count": 4,
   "id": "0d320852",
   "metadata": {},
   "outputs": [
    {
     "name": "stdout",
     "output_type": "stream",
     "text": [
      "'Get rich quick! Work from home for just 2 hours a day.' --> Spam\n",
      "'Hi, are we still on for the meeting tomorrow?' --> Non-Spam\n"
     ]
    }
   ],
   "source": [
    "# Uji dengan email baru\n",
    "new_emails = [\n",
    "    \"Get rich quick! Work from home for just 2 hours a day.\",\n",
    "    \"Hi, are we still on for the meeting tomorrow?\"\n",
    "]\n",
    "new_features = vectorizer.transform(new_emails)\n",
    "predictions = svm_model.predict(new_features)\n",
    "\n",
    "for email, label in zip(new_emails, predictions):\n",
    "    print(f\"'{email}' --> {'Spam' if label == 1 else 'Non-Spam'}\")"
   ]
  },
  {
   "cell_type": "code",
   "execution_count": null,
   "id": "59adc19e",
   "metadata": {},
   "outputs": [],
   "source": [
    "   "
   ]
  }
 ],
 "metadata": {
  "kernelspec": {
   "display_name": "Python 3 (ipykernel)",
   "language": "python",
   "name": "python3"
  },
  "language_info": {
   "codemirror_mode": {
    "name": "ipython",
    "version": 3
   },
   "file_extension": ".py",
   "mimetype": "text/x-python",
   "name": "python",
   "nbconvert_exporter": "python",
   "pygments_lexer": "ipython3",
   "version": "3.10.9"
  }
 },
 "nbformat": 4,
 "nbformat_minor": 5
}
