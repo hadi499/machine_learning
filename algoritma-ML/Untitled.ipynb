{
 "cells": [
  {
   "cell_type": "code",
   "execution_count": 4,
   "id": "3df7fc88",
   "metadata": {},
   "outputs": [
    {
     "name": "stdout",
     "output_type": "stream",
     "text": [
      "Data baru [3.5, 4] diklasifikasikan sebagai kelas: A\n"
     ]
    }
   ],
   "source": [
    "from sklearn.neighbors import KNeighborsClassifier\n",
    "\n",
    "# Dataset\n",
    "X_train = [[1, 2], [2, 3], [3, 3], [6, 6]]\n",
    "y_train = ['A', 'A', 'B', 'B']\n",
    "\n",
    "# Model K-NN\n",
    "k = 3\n",
    "model = KNeighborsClassifier(n_neighbors=k)\n",
    "\n",
    "# Latih model\n",
    "model.fit(X_train, y_train)\n",
    "\n",
    "# Prediksi data baru\n",
    "X_test = [[3.5, 4]]\n",
    "predicted_label = model.predict(X_test)\n",
    "\n",
    "print(f\"Data baru {X_test[0]} diklasifikasikan sebagai kelas: {predicted_label[0]}\")\n"
   ]
  },
  {
   "cell_type": "code",
   "execution_count": null,
   "id": "49ad80e0",
   "metadata": {},
   "outputs": [],
   "source": []
  },
  {
   "cell_type": "code",
   "execution_count": null,
   "id": "0581814f",
   "metadata": {},
   "outputs": [],
   "source": []
  }
 ],
 "metadata": {
  "kernelspec": {
   "display_name": "Python 3 (ipykernel)",
   "language": "python",
   "name": "python3"
  },
  "language_info": {
   "codemirror_mode": {
    "name": "ipython",
    "version": 3
   },
   "file_extension": ".py",
   "mimetype": "text/x-python",
   "name": "python",
   "nbconvert_exporter": "python",
   "pygments_lexer": "ipython3",
   "version": "3.10.9"
  }
 },
 "nbformat": 4,
 "nbformat_minor": 5
}
