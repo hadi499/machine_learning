{
 "cells": [
  {
   "cell_type": "code",
   "execution_count": 1,
   "id": "e27e3122",
   "metadata": {},
   "outputs": [],
   "source": [
    "from sklearn.datasets import fetch_california_housing\n",
    "from sklearn.tree import DecisionTreeRegressor\n",
    "from sklearn.model_selection import train_test_split\n",
    "from sklearn.metrics import mean_squared_error\n",
    "import numpy as np"
   ]
  },
  {
   "cell_type": "code",
   "execution_count": 2,
   "id": "5f2c93d0",
   "metadata": {},
   "outputs": [],
   "source": [
    "# Load dataset\n",
    "housing = fetch_california_housing()\n",
    "X = housing.data\n",
    "y = housing.target\n",
    "\n",
    "# Split data menjadi data latih dan uji\n",
    "X_train, X_test, y_train, y_test = train_test_split(X, y, test_size=0.3, random_state=42)\n",
    "\n",
    "# Buat model CART untuk regresi\n",
    "cart_regressor = DecisionTreeRegressor(criterion='squared_error', random_state=42)\n",
    "\n",
    "# Latih model\n",
    "cart_regressor.fit(X_train, y_train)\n",
    "\n",
    "# Prediksi\n",
    "y_pred = cart_regressor.predict(X_test)"
   ]
  },
  {
   "cell_type": "code",
   "execution_count": 3,
   "id": "c5f05a8d",
   "metadata": {},
   "outputs": [
    {
     "name": "stdout",
     "output_type": "stream",
     "text": [
      "Mean Squared Error Model CART: 0.53\n"
     ]
    }
   ],
   "source": [
    "# Evaluasi MSE\n",
    "mse = mean_squared_error(y_test, y_pred)\n",
    "print(f\"Mean Squared Error Model CART: {mse:.2f}\")"
   ]
  },
  {
   "cell_type": "code",
   "execution_count": 4,
   "id": "5eab9e6e",
   "metadata": {},
   "outputs": [
    {
     "name": "stdout",
     "output_type": "stream",
     "text": [
      "Actual: 0.48, Predicted: 0.42\n",
      "Actual: 0.46, Predicted: 0.72\n",
      "Actual: 5.00, Predicted: 5.00\n",
      "Actual: 2.19, Predicted: 2.84\n",
      "Actual: 2.78, Predicted: 1.62\n"
     ]
    }
   ],
   "source": [
    "# Menampilkan beberapa prediksi\n",
    "for i in range(5):\n",
    "    print(f\"Actual: {y_test[i]:.2f}, Predicted: {y_pred[i]:.2f}\")"
   ]
  },
  {
   "cell_type": "code",
   "execution_count": null,
   "id": "c28350a1",
   "metadata": {},
   "outputs": [],
   "source": []
  }
 ],
 "metadata": {
  "kernelspec": {
   "display_name": "Python 3 (ipykernel)",
   "language": "python",
   "name": "python3"
  },
  "language_info": {
   "codemirror_mode": {
    "name": "ipython",
    "version": 3
   },
   "file_extension": ".py",
   "mimetype": "text/x-python",
   "name": "python",
   "nbconvert_exporter": "python",
   "pygments_lexer": "ipython3",
   "version": "3.10.9"
  }
 },
 "nbformat": 4,
 "nbformat_minor": 5
}
